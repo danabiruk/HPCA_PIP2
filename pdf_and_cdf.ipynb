{
  "nbformat": 4,
  "nbformat_minor": 0,
  "metadata": {
    "colab": {
      "provenance": []
    },
    "kernelspec": {
      "name": "python3",
      "display_name": "Python 3"
    },
    "language_info": {
      "name": "python"
    }
  },
  "cells": [
    {
      "cell_type": "markdown",
      "source": [
        "# **PDF and CDF**"
      ],
      "metadata": {
        "id": "VHldxRwrS0Hf"
      }
    },
    {
      "cell_type": "code",
      "execution_count": null,
      "metadata": {
        "id": "jyrbIbZG7BCq"
      },
      "outputs": [],
      "source": [
        "import numpy as np\n",
        "import matplotlib.pyplot as plt\n",
        "import imageio.v3 as iio\n",
        "import seaborn as sns\n",
        "import pandas as pd"
      ]
    },
    {
      "cell_type": "code",
      "source": [
        "file_path = 'path/to/your/image.tif'\n",
        "im_mask_path = 'path/to/your/im_mask.tif'\n",
        "pm_mask_path = 'path/to/your/pm_mask.tif"
      ],
      "metadata": {
        "id": "K4SniJr1RYnU"
      },
      "execution_count": null,
      "outputs": []
    },
    {
      "cell_type": "code",
      "source": [
        "image = iio.imread(file_path)\n",
        "im_mask = iio.imread(im_mask_path).astype(np.float32)\n",
        "pm_mask = iio.imread(pm_mask_path).astype(np.float32)"
      ],
      "metadata": {
        "id": "5XezyXGKReWY"
      },
      "execution_count": null,
      "outputs": []
    },
    {
      "cell_type": "code",
      "source": [
        "z = 1\n",
        "frame_2_channel_0 = image[0, z, :, :]\n",
        "frame_2_channel_1 = image[1, z, :, :]"
      ],
      "metadata": {
        "id": "z0YnAbb6Rr3M"
      },
      "execution_count": null,
      "outputs": []
    },
    {
      "cell_type": "code",
      "source": [
        "im_values = frame_2_channel_0[im_mask > 0] / frame_2_channel_1[im_mask > 0]\n",
        "pm_values = frame_2_channel_0[pm_mask > 0] / frame_2_channel_1[pm_mask > 0]"
      ],
      "metadata": {
        "id": "k6pz70MdR0HR"
      },
      "execution_count": null,
      "outputs": []
    },
    {
      "cell_type": "code",
      "source": [
        "im_sorted = np.sort(im_values)\n",
        "im_cdf = np.arange(1, len(im_sorted) + 1) / len(im_sorted) if len(im_sorted) > 0 else np.array([])\n",
        "\n",
        "pm_sorted = np.sort(pm_values)\n",
        "pm_cdf = np.arange(1, len(pm_sorted) + 1) / len(pm_sorted) if len(pm_sorted) > 0 else np.array([])\n",
        "\n",
        "max_len = max(len(im_sorted), len(pm_sorted))\n",
        "\n",
        "im_sorted = np.pad(im_sorted, (0, max_len - len(im_sorted)), constant_values=np.nan)\n",
        "im_cdf = np.pad(im_cdf, (0, max_len - len(im_cdf)), constant_values=np.nan)\n",
        "\n",
        "pm_sorted = np.pad(pm_sorted, (0, max_len - len(pm_sorted)), constant_values=np.nan)\n",
        "pm_cdf = np.pad(pm_cdf, (0, max_len - len(pm_cdf)), constant_values=np.nan)"
      ],
      "metadata": {
        "id": "2cbgrOtRR2Yf"
      },
      "execution_count": null,
      "outputs": []
    },
    {
      "cell_type": "code",
      "source": [
        "cdf_data = pd.DataFrame({\n",
        "    \"IM_Value\": im_sorted,\n",
        "    \"IM_CDF\": im_cdf,\n",
        "    \"PM_Value\": pm_sorted,\n",
        "    \"PM_CDF\": pm_cdf\n",
        "})\n",
        "\n",
        "cdf_data.to_csv(\"cdf_results.csv\", index=False)"
      ],
      "metadata": {
        "id": "r2GsOnSiSGQ-"
      },
      "execution_count": null,
      "outputs": []
    },
    {
      "cell_type": "markdown",
      "source": [
        "## **Visualisation**"
      ],
      "metadata": {
        "id": "dgfM1tObSOHg"
      }
    },
    {
      "cell_type": "code",
      "source": [
        "im_color = \"#00274d\"\n",
        "pm_color = \"#ff4500\"\n",
        "\n",
        "fig, ax = plt.subplots(1, 2, figsize=(22, 10))"
      ],
      "metadata": {
        "id": "SS_Sr2QOSHNx"
      },
      "execution_count": null,
      "outputs": []
    },
    {
      "cell_type": "markdown",
      "source": [
        "### PDF"
      ],
      "metadata": {
        "id": "iEb07y6sSRij"
      }
    },
    {
      "cell_type": "code",
      "source": [
        "ax[0].hist(im_values, bins=50, density=True, color=im_color, alpha=0.5, linewidth=2)\n",
        "ax[0].hist(pm_values, bins=50, density=True, color=pm_color, alpha=0.5, linewidth=3)\n",
        "ax[0].set_xlabel(\"I(CFP/YFP)\", fontsize=35, fontweight='bold', color=\"black\")\n",
        "ax[0].set_ylabel(\"Probability Density\", fontsize=35, fontweight='bold', color=\"black\")\n",
        "ax[0].legend([\"IM\", \"PM\"], fontsize=30, loc=\"upper right\", frameon=False)\n",
        "ax[0].tick_params(axis='both', which='major', labelsize=35)\n",
        "\n",
        "sns.kdeplot(im_values, label=\"IM ECFP/EYFP\", ax=ax[0], linewidth=6, color=im_color)\n",
        "sns.kdeplot(pm_values, label=\"PM ECFP/EYFP\", ax=ax[0], linewidth=6, color=pm_color)"
      ],
      "metadata": {
        "id": "fUEDAnpeSe-o"
      },
      "execution_count": null,
      "outputs": []
    },
    {
      "cell_type": "markdown",
      "source": [
        "## CDF"
      ],
      "metadata": {
        "id": "nC-BfQz4Sbdm"
      }
    },
    {
      "cell_type": "code",
      "source": [
        "ax[1].axhline(0.5, color='black', linestyle='--', linewidth=4)\n",
        "yticks = list(ax[1].get_yticks()) + [0.5]\n",
        "ax[1].set_yticks(sorted(set(yticks)))\n",
        "ax[1].set_xlabel(\"I(CFP/YFP)\", fontsize=35, fontweight='bold', color=\"black\")\n",
        "ax[1].set_ylabel(\"Cumulative Probability\", fontsize=35, fontweight='bold', color=\"black\")\n",
        "ax[1].legend(fontsize=30, loc=\"lower right\", frameon=False)\n",
        "ax[1].tick_params(axis='both', which='major', labelsize=35)\n",
        "for spine in ax[0].spines.values():\n",
        "    spine.set_linewidth(4)\n",
        "for spine in ax[1].spines.values():\n",
        "    spine.set_linewidth(4)\n",
        "\n",
        "sns.ecdfplot(im_values, label=\"IM\", ax=ax[1], linewidth=6, color=im_color, linestyle='solid')\n",
        "sns.ecdfplot(pm_values, label=\"PM\", ax=ax[1], linewidth=6, color=pm_color, linestyle='solid')\n",
        "plt.tight_layout()\n",
        "\n",
        "plt.show()"
      ],
      "metadata": {
        "id": "NhUsBlVNSlyB"
      },
      "execution_count": null,
      "outputs": []
    }
  ]
}