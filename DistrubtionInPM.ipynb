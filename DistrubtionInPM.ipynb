{
  "nbformat": 4,
  "nbformat_minor": 0,
  "metadata": {
    "colab": {
      "provenance": []
    },
    "kernelspec": {
      "name": "python3",
      "display_name": "Python 3"
    },
    "language_info": {
      "name": "python"
    }
  },
  "cells": [
    {
      "cell_type": "markdown",
      "source": [
        "## **Distrubtion of PIP2 in plasma membrane**"
      ],
      "metadata": {
        "id": "7v9-8t32WSON"
      }
    },
    {
      "cell_type": "code",
      "execution_count": null,
      "metadata": {
        "id": "7z4BJL-EUCMH"
      },
      "outputs": [],
      "source": [
        "import numpy as np\n",
        "import matplotlib.pyplot as plt\n",
        "import tifffile as tiff\n",
        "from matplotlib.colors import LinearSegmentedColormap\n",
        "from numpy import ma"
      ]
    },
    {
      "cell_type": "code",
      "source": [
        "image_path = \"path/to/your/image.tif\"\n",
        "mask_path = \"path/to/your/PM_mask.tif\""
      ],
      "metadata": {
        "id": "xZIpjSU6VIdD"
      },
      "execution_count": null,
      "outputs": []
    },
    {
      "cell_type": "code",
      "source": [
        "image = tiff.imread(image_path)\n",
        "mask = tiff.imread(mask_path).astype(bool)"
      ],
      "metadata": {
        "id": "y3GPADbFVLqb"
      },
      "execution_count": null,
      "outputs": []
    },
    {
      "cell_type": "code",
      "source": [
        "channel_0 = image[0, 0].astype(np.float32)\n",
        "channel_1 = image[1, 0].astype(np.float32)"
      ],
      "metadata": {
        "id": "jF5WWisdVi0n"
      },
      "execution_count": null,
      "outputs": []
    },
    {
      "cell_type": "code",
      "source": [
        "channel_1[channel_1 == 0] = np.min(channel_1[channel_1 > 0])"
      ],
      "metadata": {
        "id": "Xm3FUlmeVoaO"
      },
      "execution_count": null,
      "outputs": []
    },
    {
      "cell_type": "code",
      "source": [
        "masked_difference = ma.masked_where(~mask, difference_image)"
      ],
      "metadata": {
        "id": "074BzG8IVrhL"
      },
      "execution_count": null,
      "outputs": []
    },
    {
      "cell_type": "markdown",
      "source": [
        "# **Visualisation**"
      ],
      "metadata": {
        "id": "G_PR3YxzV87p"
      }
    },
    {
      "cell_type": "code",
      "source": [
        "cmap = plt.get_cmap(\"rainbow\")\n",
        "\n",
        "plt.figure(figsize=(10, 10))\n",
        "im = plt.imshow(masked_difference, cmap=cmap)\n",
        "\n",
        "plt.title(\"I(PHD-ECFP/EYFP-Mem) PM\", fontsize=30, fontweight='bold')\n",
        "plt.axis(\"off\")\n",
        "cbar = plt.colorbar(im, fraction=0.046, pad=0.04)\n",
        "cbar.ax.tick_params(labelsize=35)\n",
        "\n",
        "plt.tight_layout()\n",
        "plt.show()"
      ],
      "metadata": {
        "id": "lQVNvF2FVtl1"
      },
      "execution_count": null,
      "outputs": []
    }
  ]
}