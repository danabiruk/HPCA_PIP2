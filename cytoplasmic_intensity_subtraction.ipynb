{
  "nbformat": 4,
  "nbformat_minor": 0,
  "metadata": {
    "colab": {
      "provenance": []
    },
    "kernelspec": {
      "name": "python3",
      "display_name": "Python 3"
    },
    "language_info": {
      "name": "python"
    }
  },
  "cells": [
    {
      "cell_type": "markdown",
      "source": [
        "# **Contrast Enhancement of Intracellular Compartments by Cytoplasmic Intensity Subtraction**\n",
        "\n"
      ],
      "metadata": {
        "id": "G2aBCgQJy4ck"
      }
    },
    {
      "cell_type": "code",
      "execution_count": null,
      "metadata": {
        "id": "SXhw6i8Yx0n-"
      },
      "outputs": [],
      "source": [
        "import numpy as np\n",
        "import tifffile\n",
        "import matplotlib.pyplot as plt\n",
        "import pandas as pd"
      ]
    },
    {
      "cell_type": "code",
      "source": [
        "tiff_path = \"path/to/your/image.tif\"\n",
        "cytoplasmic_intensity_file = \"path/to/your/background.csv\""
      ],
      "metadata": {
        "id": "7bzjL_Y7zVP_"
      },
      "execution_count": null,
      "outputs": []
    },
    {
      "cell_type": "code",
      "source": [
        "tiff_file = tifffile.imread(tiff_path)\n",
        "if len(image.shape) == 3:\n",
        "    image_channel_0 = image[1]\n",
        "else:\n",
        "    raise ValueError(\"Error!\")\n",
        "\n",
        "cytoplasmic_intensity_df = pd.read_csv(cytoplasmic_intensity_file )\n",
        "\n",
        "if 'int' not in cytoplasmic_intensity_df.columns or 'time' not in cytoplasmic_intensity_df.columns:\n",
        "    raise ValueError(\"Error!\")"
      ],
      "metadata": {
        "id": "d0H2R7rDzgAN"
      },
      "execution_count": null,
      "outputs": []
    },
    {
      "cell_type": "code",
      "source": [
        "filtered_cyt_int = cytoplasmic_intensity_df[cytoplasmic_intensity_df['time'] <= 8]\n",
        "\n",
        "if filtered_cyt_int.empty:\n",
        "    raise ValueError(\"Error!\")\n",
        "\n",
        "cyt_int_mean = filtered_cyt_int['int'].mean()\n",
        "\n",
        "print(f\"Compensation value: {background_inside_mean}\")"
      ],
      "metadata": {
        "id": "uPgOo43qz5yo"
      },
      "execution_count": null,
      "outputs": []
    },
    {
      "cell_type": "code",
      "source": [
        "corrected_image = selected_channel.astype(np.float32) - cyt_int_mean\n",
        "\n",
        "max_abs_value = np.max(np.abs(corrected_image))\n",
        "if max_abs_value != 0:\n",
        "    corrected_image /= max_abs_value"
      ],
      "metadata": {
        "id": "R6bsbGNQ1AA-"
      },
      "execution_count": null,
      "outputs": []
    },
    {
      "cell_type": "code",
      "source": [
        "plt.figure(figsize=(30, 12))\n",
        "plt.imshow(corrected_image, cmap='seismic', interpolation='nearest', vmin=-1, vmax=1)\n",
        "plt.colorbar()\n",
        "\n",
        "plt.show()"
      ],
      "metadata": {
        "id": "caH4yI711BZr"
      },
      "execution_count": null,
      "outputs": []
    }
  ]
}