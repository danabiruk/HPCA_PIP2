{
  "nbformat": 4,
  "nbformat_minor": 0,
  "metadata": {
    "colab": {
      "provenance": []
    },
    "kernelspec": {
      "name": "python3",
      "display_name": "Python 3"
    },
    "language_info": {
      "name": "python"
    }
  },
  "cells": [
    {
      "cell_type": "markdown",
      "source": [
        "# **Creating a mask based on the Mem-EYFP**\n",
        "\n"
      ],
      "metadata": {
        "id": "DNN4Vnu71dZY"
      }
    },
    {
      "cell_type": "code",
      "execution_count": null,
      "metadata": {
        "id": "DBve7bEZ1Nxa"
      },
      "outputs": [],
      "source": [
        "import numpy as np\n",
        "import imageio.v3 as iio\n",
        "import napari"
      ]
    },
    {
      "cell_type": "code",
      "source": [
        "file_path = 'path/to/your/tifffile.tiff'"
      ],
      "metadata": {
        "id": "90E87kRl57Yi"
      },
      "execution_count": null,
      "outputs": []
    },
    {
      "cell_type": "code",
      "source": [
        "image = iio.imread(file_path)\n",
        "channels, frames, height, width = image.shape"
      ],
      "metadata": {
        "id": "ooQ9zwgh2Jar"
      },
      "execution_count": null,
      "outputs": []
    },
    {
      "cell_type": "code",
      "source": [
        "z = 1\n",
        "channel_1_frame_2 = image[1, z, :, :]"
      ],
      "metadata": {
        "id": "Q3NJ__2K5gk6"
      },
      "execution_count": null,
      "outputs": []
    },
    {
      "cell_type": "code",
      "source": [
        "threshold = np.mean(channel_1_frame_2) + np.std(channel_1_frame_2)\n",
        "\n",
        "mask = channel_1_frame_2 > threshold"
      ],
      "metadata": {
        "id": "cxfNDBDU6Ijr"
      },
      "execution_count": null,
      "outputs": []
    },
    {
      "cell_type": "code",
      "source": [
        "viewer = napari.Viewer()\n",
        "viewer.add_image(channel_1_frame_2, name=\"Channel 1, Frame 2\", colormap=\"gray\")\n",
        "viewer.add_labels(mask.astype(np.uint8), name=f\"PM Mask (>{threshold:.2f})\")"
      ],
      "metadata": {
        "id": "Iov2lMoH6PLP"
      },
      "execution_count": null,
      "outputs": []
    }
  ]
}